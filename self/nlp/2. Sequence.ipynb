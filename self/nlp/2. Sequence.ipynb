{
 "cells": [
  {
   "cell_type": "code",
   "execution_count": 1,
   "id": "7441e8e7",
   "metadata": {},
   "outputs": [
    {
     "name": "stderr",
     "output_type": "stream",
     "text": [
      "2022-06-20 20:33:22.051038: W tensorflow/stream_executor/platform/default/dso_loader.cc:64] Could not load dynamic library 'libcudart.so.11.0'; dlerror: libcudart.so.11.0: cannot open shared object file: No such file or directory\n",
      "2022-06-20 20:33:22.051078: I tensorflow/stream_executor/cuda/cudart_stub.cc:29] Ignore above cudart dlerror if you do not have a GPU set up on your machine.\n"
     ]
    }
   ],
   "source": [
    "from tensorflow.keras.preprocessing.text import Tokenizer"
   ]
  },
  {
   "cell_type": "code",
   "execution_count": 20,
   "id": "9d6ad332",
   "metadata": {},
   "outputs": [],
   "source": [
    "sentences = [\n",
    "    'i like you', \n",
    "    'i like cat',\n",
    "    'you love my cat',\n",
    "    'my cat is cute'\n",
    "]"
   ]
  },
  {
   "cell_type": "code",
   "execution_count": 21,
   "id": "b557f868",
   "metadata": {},
   "outputs": [],
   "source": [
    "# Initialize the Tokenizer class\n",
    "tokenizer = Tokenizer(num_words=100, oov_token=\"<OOV>\")"
   ]
  },
  {
   "cell_type": "code",
   "execution_count": 22,
   "id": "c6f0cf0a",
   "metadata": {},
   "outputs": [],
   "source": [
    "# Tokenize the input sentences\n",
    "tokenizer.fit_on_texts(sentences)"
   ]
  },
  {
   "cell_type": "code",
   "execution_count": 23,
   "id": "11e88c0f",
   "metadata": {},
   "outputs": [],
   "source": [
    "# Get the word index dictionary\n",
    "word_index = tokenizer.word_index"
   ]
  },
  {
   "cell_type": "code",
   "execution_count": 24,
   "id": "c7442647",
   "metadata": {},
   "outputs": [],
   "source": [
    "# Generate list of token sequences\n",
    "sequences = tokenizer.texts_to_sequences(sentences)"
   ]
  },
  {
   "cell_type": "code",
   "execution_count": 25,
   "id": "437b7e69",
   "metadata": {},
   "outputs": [
    {
     "name": "stdout",
     "output_type": "stream",
     "text": [
      "{'<OOV>': 1, 'cat': 2, 'i': 3, 'like': 4, 'you': 5, 'my': 6, 'love': 7, 'is': 8, 'cute': 9}\n",
      "[[3, 4, 5], [3, 4, 2], [5, 7, 6, 2], [6, 2, 8, 9]]\n"
     ]
    }
   ],
   "source": [
    "print(word_index)\n",
    "print(sequences)"
   ]
  },
  {
   "cell_type": "code",
   "execution_count": 26,
   "id": "1650f12b",
   "metadata": {},
   "outputs": [],
   "source": [
    "from tensorflow.keras.preprocessing.sequence import pad_sequences\n"
   ]
  },
  {
   "cell_type": "code",
   "execution_count": 27,
   "id": "eac1de23",
   "metadata": {},
   "outputs": [
    {
     "name": "stdout",
     "output_type": "stream",
     "text": [
      "\n",
      "Padded Sequences:\n",
      "[[0 0 3 4 5]\n",
      " [0 0 3 4 2]\n",
      " [0 5 7 6 2]\n",
      " [0 6 2 8 9]]\n"
     ]
    }
   ],
   "source": [
    "# Pad the sequences to a uniform length\n",
    "padded = pad_sequences(sequences, maxlen=5)\n",
    "\n",
    "# Print the result\n",
    "print(\"\\nPadded Sequences:\")\n",
    "print(padded)"
   ]
  },
  {
   "cell_type": "code",
   "execution_count": 28,
   "id": "3cf06709",
   "metadata": {},
   "outputs": [],
   "source": [
    "#try with test data"
   ]
  },
  {
   "cell_type": "code",
   "execution_count": 29,
   "id": "d31b40ca",
   "metadata": {},
   "outputs": [],
   "source": [
    "test_data = [\n",
    "    'i really love cat',\n",
    "    'i love cow',\n",
    "    'you are my friend'\n",
    "]"
   ]
  },
  {
   "cell_type": "code",
   "execution_count": 30,
   "id": "5f9b082f",
   "metadata": {},
   "outputs": [],
   "source": [
    "# Generate the sequences\n",
    "test_seq = tokenizer.texts_to_sequences(test_data)"
   ]
  },
  {
   "cell_type": "code",
   "execution_count": 31,
   "id": "a3da05c1",
   "metadata": {},
   "outputs": [
    {
     "name": "stdout",
     "output_type": "stream",
     "text": [
      "\n",
      "Word Index =  {'<OOV>': 1, 'cat': 2, 'i': 3, 'like': 4, 'you': 5, 'my': 6, 'love': 7, 'is': 8, 'cute': 9}\n",
      "\n",
      "Test Sequence =  [[3, 1, 7, 2], [3, 7, 1], [5, 1, 6, 1]]\n"
     ]
    }
   ],
   "source": [
    "# Print the word index dictionary\n",
    "print(\"\\nWord Index = \" , word_index)\n",
    "\n",
    "# Print the sequences with OOV\n",
    "print(\"\\nTest Sequence = \", test_seq)"
   ]
  },
  {
   "cell_type": "code",
   "execution_count": 32,
   "id": "bbea727b",
   "metadata": {},
   "outputs": [
    {
     "name": "stdout",
     "output_type": "stream",
     "text": [
      "\n",
      "Padded Test Sequence: \n",
      "[[0 0 0 0 0 0 3 1 7 2]\n",
      " [0 0 0 0 0 0 0 3 7 1]\n",
      " [0 0 0 0 0 0 5 1 6 1]]\n"
     ]
    }
   ],
   "source": [
    "# Print the padded result\n",
    "padded = pad_sequences(test_seq, maxlen=10)\n",
    "print(\"\\nPadded Test Sequence: \")\n",
    "print(padded)"
   ]
  },
  {
   "cell_type": "code",
   "execution_count": 33,
   "id": "6138908a",
   "metadata": {},
   "outputs": [
    {
     "name": "stdout",
     "output_type": "stream",
     "text": [
      "\n",
      "Padded Test Sequence: \n",
      "[[0 0 0 3 1 7 2]\n",
      " [0 0 0 0 3 7 1]\n",
      " [0 0 0 5 1 6 1]]\n"
     ]
    }
   ],
   "source": [
    "# Print the padded result\n",
    "padded = pad_sequences(test_seq, maxlen=7)\n",
    "print(\"\\nPadded Test Sequence: \")\n",
    "print(padded)"
   ]
  },
  {
   "cell_type": "code",
   "execution_count": 43,
   "id": "401cacf3",
   "metadata": {},
   "outputs": [
    {
     "name": "stdout",
     "output_type": "stream",
     "text": [
      "\n",
      "Padded Test Sequence: \n",
      "[[3 1 7 2 0 0 0]\n",
      " [3 7 1 0 0 0 0]\n",
      " [5 1 6 1 0 0 0]]\n"
     ]
    }
   ],
   "source": [
    "# Print the padded result\n",
    "padded = pad_sequences(test_seq, padding='post', maxlen=7)\n",
    "print(\"\\nPadded Test Sequence: \")\n",
    "print(padded)"
   ]
  },
  {
   "cell_type": "code",
   "execution_count": 49,
   "id": "3ba373ae",
   "metadata": {},
   "outputs": [
    {
     "name": "stdout",
     "output_type": "stream",
     "text": [
      "\n",
      "Padded Test Sequence: \n",
      "[[3 1 7 2 0 0 0]\n",
      " [3 7 1 0 0 0 0]\n",
      " [5 1 6 1 0 0 0]]\n"
     ]
    }
   ],
   "source": [
    "# Print the padded result\n",
    "padded = pad_sequences(test_seq, padding='post', truncating='post', maxlen=7)\n",
    "print(\"\\nPadded Test Sequence: \")\n",
    "print(padded)"
   ]
  },
  {
   "cell_type": "code",
   "execution_count": null,
   "id": "0e856779",
   "metadata": {},
   "outputs": [],
   "source": []
  }
 ],
 "metadata": {
  "kernelspec": {
   "display_name": "Python 3 (ipykernel)",
   "language": "python",
   "name": "python3"
  },
  "language_info": {
   "codemirror_mode": {
    "name": "ipython",
    "version": 3
   },
   "file_extension": ".py",
   "mimetype": "text/x-python",
   "name": "python",
   "nbconvert_exporter": "python",
   "pygments_lexer": "ipython3",
   "version": "3.9.12"
  }
 },
 "nbformat": 4,
 "nbformat_minor": 5
}
