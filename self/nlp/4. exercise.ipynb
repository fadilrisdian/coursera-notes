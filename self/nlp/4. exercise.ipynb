{
 "cells": [
  {
   "cell_type": "code",
   "execution_count": 1,
   "id": "c98d5f8a",
   "metadata": {},
   "outputs": [
    {
     "name": "stderr",
     "output_type": "stream",
     "text": [
      "2022-06-21 12:51:32.877793: W tensorflow/stream_executor/platform/default/dso_loader.cc:64] Could not load dynamic library 'libcudart.so.11.0'; dlerror: libcudart.so.11.0: cannot open shared object file: No such file or directory\n",
      "2022-06-21 12:51:32.877851: I tensorflow/stream_executor/cuda/cudart_stub.cc:29] Ignore above cudart dlerror if you do not have a GPU set up on your machine.\n"
     ]
    }
   ],
   "source": [
    "import csv\n",
    "from tensorflow.keras.preprocessing.text import Tokenizer\n",
    "from tensorflow.keras.preprocessing.sequence import pad_sequences"
   ]
  },
  {
   "cell_type": "code",
   "execution_count": 15,
   "id": "6943bc8e",
   "metadata": {},
   "outputs": [
    {
     "name": "stdout",
     "output_type": "stream",
     "text": [
      "First line (header) looks like this:\n",
      "\n",
      "ArticleId,Text,Category\n",
      "\n",
      "Each data point looks like this:\n",
      "\n",
      "1833,worldcom ex-boss launches defence lawyers defending former worldcom chief bernie ebbers against a battery of fraud charges have called a company whistleblower as their first witness.  cynthia cooper  worldcom s ex-head of internal accounting  alerted directors to irregular accounting practices at the us telecoms giant in 2002. her warnings led to the collapse of the firm following the discovery of an $11bn (£5.7bn) accounting fraud. mr ebbers has pleaded not guilty to charges of fraud and conspiracy.  prosecution lawyers have argued that mr ebbers orchestrated a series of accounting tricks at worldcom  ordering employees to hide expenses and inflate revenues to meet wall street earnings estimates. but ms cooper  who now runs her own consulting business  told a jury in new york on wednesday that external auditors arthur andersen had approved worldcom s accounting in early 2001 and 2002. she said andersen had given a  green light  to the procedures and practices used by worldcom. mr ebber s lawyers have said he was unaware of the fraud  arguing that auditors did not alert him to any problems.  ms cooper also said that during shareholder meetings mr ebbers often passed over technical questions to the company s finance chief  giving only  brief  answers himself. the prosecution s star witness  former worldcom financial chief scott sullivan  has said that mr ebbers ordered accounting adjustments at the firm  telling him to  hit our books . however  ms cooper said mr sullivan had not mentioned  anything uncomfortable  about worldcom s accounting during a 2001 audit committee meeting. mr ebbers could face a jail sentence of 85 years if convicted of all the charges he is facing. worldcom emerged from bankruptcy protection in 2004  and is now known as mci. last week  mci agreed to a buyout by verizon communications in a deal valued at $6.75bn.,business\n",
      "\n"
     ]
    }
   ],
   "source": [
    "with open(\"./dataset/BBC-News-Train.csv\", 'r') as csvfile:\n",
    "    print(f\"First line (header) looks like this:\\n\\n{csvfile.readline()}\")\n",
    "    print(f\"Each data point looks like this:\\n\\n{csvfile.readline()}\")"
   ]
  },
  {
   "cell_type": "code",
   "execution_count": 74,
   "id": "db3c08a7",
   "metadata": {},
   "outputs": [],
   "source": [
    "# GRADED FUNCTION: remove_stopwords\n",
    "def remove_stopwords(sentence):\n",
    "    # List of stopwords\n",
    "    stopwords = [\"a\", \"about\", \"above\", \"after\", \"again\", \"against\", \"all\", \"am\", \"an\", \"and\", \"any\", \"are\", \"as\", \"at\", \"be\", \"because\", \"been\", \"before\", \"being\", \"below\", \"between\", \"both\", \"but\", \"by\", \"could\", \"did\", \"do\", \"does\", \"doing\", \"down\", \"during\", \"each\", \"few\", \"for\", \"from\", \"further\", \"had\", \"has\", \"have\", \"having\", \"he\", \"he'd\", \"he'll\", \"he's\", \"her\", \"here\", \"here's\", \"hers\", \"herself\", \"him\", \"himself\", \"his\", \"how\", \"how's\", \"i\", \"i'd\", \"i'll\", \"i'm\", \"i've\", \"if\", \"in\", \"into\", \"is\", \"it\", \"it's\", \"its\", \"itself\", \"let's\", \"me\", \"more\", \"most\", \"my\", \"myself\", \"nor\", \"of\", \"on\", \"once\", \"only\", \"or\", \"other\", \"ought\", \"our\", \"ours\", \"ourselves\", \"out\", \"over\", \"own\", \"same\", \"she\", \"she'd\", \"she'll\", \"she's\", \"should\", \"so\", \"some\", \"such\", \"than\", \"that\", \"that's\", \"the\", \"their\", \"theirs\", \"them\", \"themselves\", \"then\", \"there\", \"there's\", \"these\", \"they\", \"they'd\", \"they'll\", \"they're\", \"they've\", \"this\", \"those\", \"through\", \"to\", \"too\", \"under\", \"until\", \"up\", \"very\", \"was\", \"we\", \"we'd\", \"we'll\", \"we're\", \"we've\", \"were\", \"what\", \"what's\", \"when\", \"when's\", \"where\", \"where's\", \"which\", \"while\", \"who\", \"who's\", \"whom\", \"why\", \"why's\", \"with\", \"would\", \"you\", \"you'd\", \"you'll\", \"you're\", \"you've\", \"your\", \"yours\", \"yourself\", \"yourselves\" ]\n",
    "    \n",
    "    # Sentence converted to lowercase-only\n",
    "    sentence = sentence.lower()\n",
    "    \n",
    "    ### START CODE HERE\n",
    "    sentence = sentence.split(\" \")\n",
    "    results = []\n",
    "    for word in sentence:\n",
    "        if word not in stopwords:\n",
    "            results.append(word)\n",
    "    \n",
    "    sentence = ' '.join(results)\n",
    "    \n",
    "    ### END CODE HERE\n",
    "    return sentence"
   ]
  },
  {
   "cell_type": "code",
   "execution_count": 75,
   "id": "2f074600",
   "metadata": {},
   "outputs": [],
   "source": [
    "sentence = '1833, worldcom ex-boss launches defence lawyers defending former worldcom chief bernie ebbers against a battery of fraud charges have called a company whistleblower as their first witness.  cynthia cooper  worldcom s ex-head of internal accounting  alerted directors to irregular accounting practices at the us telecoms giant in 2002. her warnings led to the collapse of the firm following the discovery of an $11bn (£5.7bn) accounting fraud. mr ebbers has pleaded not guilty to charges of fraud and conspiracy.  prosecution lawyers have argued that mr ebbers orchestrated a series of accounting tricks at worldcom  ordering employees to hide expenses and inflate revenues to meet wall street earnings estimates. but ms cooper  who now runs her own consulting business  told a jury in new york on wednesday that external auditors arthur andersen had approved worldcom s accounting in early 2001 and 2002. she said andersen had given a  green light  to the procedures and practices used by worldcom. mr ebber s lawyers have said he was unaware of the fraud  arguing that auditors did not alert him to any problems.  ms cooper also said that during shareholder meetings mr ebbers often passed over technical questions to the company s finance chief  giving only  brief  answers himself. the prosecution s star witness  former worldcom financial chief scott sullivan  has said that mr ebbers ordered accounting adjustments at the firm  telling him to  hit our books . however  ms cooper said mr sullivan had not mentioned  anything uncomfortable  about worldcom s accounting during a 2001 audit committee meeting. mr ebbers could face a jail sentence of 85 years if convicted of all the charges he is facing. worldcom emerged from bankruptcy protection in 2004  and is now known as mci. last week  mci agreed to a buyout by verizon communications in a deal valued at $6.75bn.,busines'"
   ]
  },
  {
   "cell_type": "code",
   "execution_count": 76,
   "id": "c7e1f649",
   "metadata": {},
   "outputs": [
    {
     "data": {
      "text/plain": [
       "'1833, worldcom ex-boss launches defence lawyers defending former worldcom chief bernie ebbers battery fraud charges called company whistleblower first witness.  cynthia cooper  worldcom s ex-head internal accounting  alerted directors irregular accounting practices us telecoms giant 2002. warnings led collapse firm following discovery $11bn (£5.7bn) accounting fraud. mr ebbers pleaded not guilty charges fraud conspiracy.  prosecution lawyers argued mr ebbers orchestrated series accounting tricks worldcom  ordering employees hide expenses inflate revenues meet wall street earnings estimates. ms cooper  now runs consulting business  told jury new york wednesday external auditors arthur andersen approved worldcom s accounting early 2001 2002. said andersen given  green light  procedures practices used worldcom. mr ebber s lawyers said unaware fraud  arguing auditors not alert problems.  ms cooper also said shareholder meetings mr ebbers often passed technical questions company s finance chief  giving  brief  answers himself. prosecution s star witness  former worldcom financial chief scott sullivan  said mr ebbers ordered accounting adjustments firm  telling  hit books . however  ms cooper said mr sullivan not mentioned  anything uncomfortable  worldcom s accounting 2001 audit committee meeting. mr ebbers face jail sentence 85 years convicted charges facing. worldcom emerged bankruptcy protection 2004  now known mci. last week  mci agreed buyout verizon communications deal valued $6.75bn.,busines'"
      ]
     },
     "execution_count": 76,
     "metadata": {},
     "output_type": "execute_result"
    }
   ],
   "source": [
    "remove_stopwords(sentence)"
   ]
  },
  {
   "cell_type": "code",
   "execution_count": 77,
   "id": "3d99bf13",
   "metadata": {},
   "outputs": [],
   "source": [
    "def parse_data_from_file(filename):\n",
    "    \n",
    "    sentences = []\n",
    "    labels = []\n",
    "    with open(filename, 'r') as csvfile:\n",
    "        ### START CODE HERE\n",
    "        reader = csv.reader(csvfile, delimiter=',')\n",
    "        next(reader)\n",
    "        \n",
    "        for row in reader:\n",
    "            labels.append(row[0])\n",
    "            sentence = remove_stopwords(row[1])\n",
    "            sentences.append(sentence)\n",
    "            \n",
    "        ### END CODE HERE\n",
    "    return sentences, labels"
   ]
  },
  {
   "cell_type": "code",
   "execution_count": 79,
   "id": "8e25de30",
   "metadata": {},
   "outputs": [
    {
     "name": "stdout",
     "output_type": "stream",
     "text": [
      "There are 1490 sentences in the dataset.\n",
      "\n",
      "First sentence has 203 words (after removing stopwords).\n",
      "\n",
      "There are 1490 labels in the dataset.\n",
      "\n",
      "The first 5 labels are ['1833', '154', '1101', '1976', '917']\n"
     ]
    }
   ],
   "source": [
    "# Test your function\n",
    "sentences, labels = parse_data_from_file(\"./dataset/BBC-News-Train.csv\")\n",
    "\n",
    "print(f\"There are {len(sentences)} sentences in the dataset.\\n\")\n",
    "print(f\"First sentence has {len(sentences[0].split())} words (after removing stopwords).\\n\")\n",
    "print(f\"There are {len(labels)} labels in the dataset.\\n\")\n",
    "print(f\"The first 5 labels are {labels[:5]}\")"
   ]
  },
  {
   "cell_type": "code",
   "execution_count": 80,
   "id": "0f12baf3",
   "metadata": {},
   "outputs": [],
   "source": [
    "def fit_tokenizer(sentences):\n",
    "    \"\"\"\n",
    "    Instantiates the Tokenizer class\n",
    "    \n",
    "    Args:\n",
    "        sentences (list): lower-cased sentences without stopwords\n",
    "    \n",
    "    Returns:\n",
    "        tokenizer (object): an instance of the Tokenizer class containing the word-index dictionary\n",
    "    \"\"\"\n",
    "    ### START CODE HERE\n",
    "    # Instantiate the Tokenizer class by passing in the oov_token argument\n",
    "    tokenizer = Tokenizer(oov_token=\"<OOV>\")\n",
    "    # Fit on the sentences\n",
    "    # Generate the word index dictionary\n",
    "    tokenizer.fit_on_texts(sentences)\n",
    "    \n",
    "    ### END CODE HERE\n",
    "    return tokenizer"
   ]
  },
  {
   "cell_type": "code",
   "execution_count": 81,
   "id": "674ce76a",
   "metadata": {},
   "outputs": [
    {
     "name": "stdout",
     "output_type": "stream",
     "text": [
      "Vocabulary contains 24963 words\n",
      "\n",
      "<OOV> token included in vocabulary\n"
     ]
    }
   ],
   "source": [
    "tokenizer = fit_tokenizer(sentences)\n",
    "word_index = tokenizer.word_index\n",
    "\n",
    "print(f\"Vocabulary contains {len(word_index)} words\\n\")\n",
    "print(\"<OOV> token included in vocabulary\" if \"<OOV>\" in word_index else \"<OOV> token NOT included in vocabulary\")"
   ]
  },
  {
   "cell_type": "code",
   "execution_count": 82,
   "id": "6c5849e9",
   "metadata": {},
   "outputs": [],
   "source": [
    "def get_padded_sequences(tokenizer, sentences):\n",
    "    \n",
    "    ### START CODE HERE\n",
    "    # Convert sentences to sequences\n",
    "    sequences = tokenizer.texts_to_sequences(sentences)\n",
    "    \n",
    "    # Pad the sequences using the post padding strategy\n",
    "    padded_sequences = pad_sequences(sequences, padding='post')\n",
    "    ### END CODE HERE\n",
    "    \n",
    "    return padded_sequences"
   ]
  },
  {
   "cell_type": "code",
   "execution_count": 83,
   "id": "74cc3472",
   "metadata": {},
   "outputs": [
    {
     "name": "stdout",
     "output_type": "stream",
     "text": [
      "First padded sequence looks like this: \n",
      "\n",
      "[1322 1180  592 ...    0    0    0]\n",
      "\n",
      "Numpy array of all sequences has shape: (1490, 1881)\n",
      "\n",
      "This means there are 1490 sequences in total and each one has a size of 1881\n"
     ]
    }
   ],
   "source": [
    "padded_sequences = get_padded_sequences(tokenizer, sentences)\n",
    "print(f\"First padded sequence looks like this: \\n\\n{padded_sequences[0]}\\n\")\n",
    "print(f\"Numpy array of all sequences has shape: {padded_sequences.shape}\\n\")\n",
    "print(f\"This means there are {padded_sequences.shape[0]} sequences in total and each one has a size of {padded_sequences.shape[1]}\")"
   ]
  },
  {
   "cell_type": "code",
   "execution_count": 84,
   "id": "d95ef6a8",
   "metadata": {},
   "outputs": [
    {
     "data": {
      "text/plain": [
       "array([[ 1322,  1180,   592, ...,     0,     0,     0],\n",
       "       [  773,   158,   887, ...,     0,     0,     0],\n",
       "       [   45,   727, 10061, ...,     0,     0,     0],\n",
       "       ...,\n",
       "       [ 1795,   322,  1483, ...,     0,     0,     0],\n",
       "       [  516,  1347,   597, ...,     0,     0,     0],\n",
       "       [ 8683,  2912,   673, ...,     0,     0,     0]], dtype=int32)"
      ]
     },
     "execution_count": 84,
     "metadata": {},
     "output_type": "execute_result"
    }
   ],
   "source": [
    "padded_sequences"
   ]
  },
  {
   "cell_type": "code",
   "execution_count": 85,
   "id": "6db0448a",
   "metadata": {},
   "outputs": [],
   "source": [
    "def tokenize_labels(labels):\n",
    "    ### START CODE HERE\n",
    "    \n",
    "    # Instantiate the Tokenizer class\n",
    "    # No need to pass additional arguments since you will be tokenizing the labels\n",
    "    label_tokenizer = Tokenizer()\n",
    "    \n",
    "    # Fit the tokenizer to the labels\n",
    "    label_tokenizer.fit_on_texts(labels)\n",
    "    \n",
    "    # Save the word index\n",
    "    label_word_index = label_tokenizer.word_index\n",
    "    \n",
    "    # Save the sequences\n",
    "    label_sequences = label_tokenizer.texts_to_sequences(labels)\n",
    "\n",
    "    ### END CODE HERE\n",
    "    \n",
    "    return label_sequences, label_word_index"
   ]
  },
  {
   "cell_type": "code",
   "execution_count": 86,
   "id": "18f39209",
   "metadata": {},
   "outputs": [
    {
     "name": "stdout",
     "output_type": "stream",
     "text": [
      "Vocabulary of labels looks like this {'1833': 1, '154': 2, '1101': 3, '1976': 4, '917': 5, '1582': 6, '651': 7, '1797': 8, '2034': 9, '1866': 10, '1683': 11, '1153': 12, '1028': 13, '812': 14, '707': 15, '1588': 16, '342': 17, '486': 18, '1344': 19, '1552': 20, '1547': 21, '177': 22, '1785': 23, '1617': 24, '405': 25, '1561': 26, '702': 27, '1026': 28, '1527': 29, '1503': 30, '1951': 31, '1407': 32, '2002': 33, '2100': 34, '466': 35, '687': 36, '1009': 37, '805': 38, '771': 39, '1532': 40, '2205': 41, '2000': 42, '953': 43, '1394': 44, '1522': 45, '455': 46, '593': 47, '590': 48, '277': 49, '90': 50, '904': 51, '527': 52, '1763': 53, '42': 54, '1364': 55, '1418': 56, '643': 57, '40': 58, '1518': 59, '2046': 60, '464': 61, '180': 62, '476': 63, '2017': 64, '315': 65, '96': 66, '1079': 67, '947': 68, '1742': 69, '972': 70, '210': 71, '2144': 72, '1766': 73, '1971': 74, '1303': 75, '1638': 76, '79': 77, '1055': 78, '1804': 79, '1929': 80, '371': 81, '445': 82, '105': 83, '1297': 84, '1932': 85, '1458': 86, '2127': 87, '1321': 88, '699': 89, '1738': 90, '639': 91, '1756': 92, '212': 93, '1566': 94, '1544': 95, '1962': 96, '1474': 97, '603': 98, '1220': 99, '891': 100, '1259': 101, '813': 102, '1680': 103, '136': 104, '684': 105, '777': 106, '618': 107, '1843': 108, '2048': 109, '334': 110, '2093': 111, '226': 112, '506': 113, '974': 114, '1408': 115, '461': 116, '1745': 117, '1133': 118, '1844': 119, '1249': 120, '1515': 121, '1425': 122, '2061': 123, '39': 124, '1091': 125, '865': 126, '634': 127, '306': 128, '1825': 129, '764': 130, '997': 131, '1361': 132, '1945': 133, '267': 134, '227': 135, '197': 136, '749': 137, '380': 138, '251': 139, '690': 140, '1411': 141, '1235': 142, '932': 143, '1487': 144, '611': 145, '775': 146, '1523': 147, '303': 148, '91': 149, '1184': 150, '449': 151, '1778': 152, '1469': 153, '1260': 154, '2044': 155, '19': 156, '666': 157, '853': 158, '844': 159, '1919': 160, '344': 161, '840': 162, '1596': 163, '1769': 164, '1771': 165, '378': 166, '2079': 167, '183': 168, '413': 169, '1066': 170, '1557': 171, '1645': 172, '406': 173, '867': 174, '1392': 175, '490': 176, '537': 177, '1205': 178, '1964': 179, '1330': 180, '1711': 181, '876': 182, '1021': 183, '2082': 184, '627': 185, '1400': 186, '61': 187, '2179': 188, '1213': 189, '1299': 190, '1264': 191, '2077': 192, '1119': 193, '828': 194, '893': 195, '1164': 196, '1696': 197, '396': 198, '1862': 199, '559': 200, '439': 201, '601': 202, '147': 203, '736': 204, '1412': 205, '1878': 206, '261': 207, '273': 208, '1022': 209, '760': 210, '50': 211, '850': 212, '1930': 213, '1060': 214, '31': 215, '761': 216, '316': 217, '171': 218, '1175': 219, '1047': 220, '1343': 221, '1934': 222, '82': 223, '1023': 224, '1875': 225, '826': 226, '1069': 227, '1802': 228, '1098': 229, '1128': 230, '1736': 231, '140': 232, '1941': 233, '2': 234, '1658': 235, '1811': 236, '1855': 237, '495': 238, '485': 239, '1642': 240, '92': 241, '597': 242, '1012': 243, '518': 244, '1294': 245, '1376': 246, '1446': 247, '990': 248, '871': 249, '778': 250, '1982': 251, '1065': 252, '420': 253, '1387': 254, '1681': 255, '283': 256, '2052': 257, '878': 258, '1718': 259, '1553': 260, '1434': 261, '514': 262, '122': 263, '2151': 264, '46': 265, '1038': 266, '1598': 267, '1621': 268, '474': 269, '1632': 270, '1017': 271, '302': 272, '150': 273, '2128': 274, '203': 275, '2159': 276, '2089': 277, '1439': 278, '158': 279, '352': 280, '65': 281, '513': 282, '1796': 283, '533': 284, '727': 285, '78': 286, '1517': 287, '2153': 288, '2074': 289, '1809': 290, '375': 291, '2195': 292, '1194': 293, '2141': 294, '220': 295, '1550': 296, '1287': 297, '1360': 298, '25': 299, '292': 300, '1916': 301, '428': 302, '435': 303, '425': 304, '1141': 305, '682': 306, '1499': 307, '1121': 308, '1529': 309, '658': 310, '575': 311, '453': 312, '962': 313, '465': 314, '1968': 315, '1966': 316, '372': 317, '1396': 318, '578': 319, '467': 320, '1444': 321, '1275': 322, '1554': 323, '121': 324, '899': 325, '1542': 326, '1080': 327, '1466': 328, '726': 329, '1928': 330, '1254': 331, '1497': 332, '173': 333, '370': 334, '351': 335, '186': 336, '1578': 337, '2199': 338, '1534': 339, '739': 340, '569': 341, '137': 342, '762': 343, '1733': 344, '1014': 345, '1199': 346, '1540': 347, '1099': 348, '281': 349, '1451': 350, '743': 351, '1851': 352, '1893': 353, '2116': 354, '1349': 355, '1999': 356, '2035': 357, '248': 358, '1308': 359, '1077': 360, '1374': 361, '949': 362, '429': 363, '811': 364, '228': 365, '49': 366, '400': 367, '151': 368, '295': 369, '1147': 370, '754': 371, '1894': 372, '2115': 373, '360': 374, '2168': 375, '1391': 376, '1794': 377, '1277': 378, '1058': 379, '987': 380, '434': 381, '1793': 382, '440': 383, '1872': 384, '674': 385, '1312': 386, '577': 387, '26': 388, '1174': 389, '1244': 390, '1977': 391, '339': 392, '1348': 393, '123': 394, '612': 395, '1740': 396, '1401': 397, '254': 398, '2113': 399, '1885': 400, '1482': 401, '1031': 402, '1088': 403, '190': 404, '1381': 405, '264': 406, '1218': 407, '610': 408, '1483': 409, '217': 410, '897': 411, '1125': 412, '748': 413, '510': 414, '1836': 415, '2150': 416, '1437': 417, '1725': 418, '1090': 419, '345': 420, '2184': 421, '906': 422, '544': 423, '1537': 424, '924': 425, '1159': 426, '1653': 427, '930': 428, '69': 429, '447': 430, '2098': 431, '1190': 432, '1985': 433, '602': 434, '892': 435, '2175': 436, '1087': 437, '266': 438, '247': 439, '1431': 440, '1912': 441, '2076': 442, '431': 443, '1847': 444, '1157': 445, '561': 446, '512': 447, '148': 448, '1078': 449, '392': 450, '1208': 451, '2086': 452, '1045': 453, '735': 454, '881': 455, '607': 456, '305': 457, '1717': 458, '1309': 459, '1383': 460, '1939': 461, '1100': 462, '2118': 463, '1688': 464, '1882': 465, '410': 466, '1940': 467, '1716': 468, '632': 469, '894': 470, '1686': 471, '1713': 472, '711': 473, '1980': 474, '1946': 475, '1960': 476, '1921': 477, '1749': 478, '1759': 479, '572': 480, '1170': 481, '441': 482, '1840': 483, '47': 484, '480': 485, '1981': 486, '2021': 487, '317': 488, '1879': 489, '563': 490, '1182': 491, '2036': 492, '38': 493, '343': 494, '1326': 495, '1266': 496, '2156': 497, '1395': 498, '1358': 499, '2131': 500, '508': 501, '356': 502, '1402': 503, '497': 504, '733': 505, '1579': 506, '1318': 507, '1858': 508, '1379': 509, '2042': 510, '1909': 511, '108': 512, '859': 513, '2129': 514, '2224': 515, '1163': 516, '1612': 517, '15': 518, '1607': 519, '1528': 520, '492': 521, '1195': 522, '1007': 523, '496': 524, '1625': 525, '1623': 526, '2223': 527, '216': 528, '2186': 529, '1102': 530, '114': 531, '677': 532, '983': 533, '1468': 534, '588': 535, '482': 536, '286': 537, '1029': 538, '623': 539, '855': 540, '647': 541, '470': 542, '1390': 543, '2204': 544, '1424': 545, '787': 546, '1967': 547, '1974': 548, '1239': 549, '1185': 550, '964': 551, '2023': 552, '2133': 553, '2001': 554, '1597': 555, '998': 556, '870': 557, '1076': 558, '549': 559, '817': 560, '391': 561, '293': 562, '822': 563, '1526': 564, '991': 565, '1772': 566, '2016': 567, '1931': 568, '1765': 569, '1488': 570, '437': 571, '536': 572, '418': 573, '324': 574, '1030': 575, '307': 576, '1548': 577, '1559': 578, '773': 579, '901': 580, '1926': 581, '1606': 582, '1039': 583, '1998': 584, '900': 585, '1846': 586, '224': 587, '1641': 588, '2171': 589, '1604': 590, '1896': 591, '1146': 592, '125': 593, '2220': 594, '1362': 595, '331': 596, '236': 597, '734': 598, '1338': 599, '280': 600, '530': 601, '289': 602, '2030': 603, '1648': 604, '53': 605, '973': 606, '1268': 607, '1498': 608, '1584': 609, '673': 610, '2107': 611, '720': 612, '1570': 613, '2054': 614, '11': 615, '1109': 616, '110': 617, '1462': 618, '1040': 619, '335': 620, '1041': 621, '393': 622, '1222': 623, '552': 624, '785': 625, '814': 626, '832': 627, '956': 628, '456': 629, '1464': 630, '1226': 631, '1536': 632, '1867': 633, '1805': 634, '1728': 635, '1201': 636, '1049': 637, '427': 638, '355': 639, '2119': 640, '803': 641, '362': 642, '800': 643, '1670': 644, '1354': 645, '1143': 646, '758': 647, '1455': 648, '958': 649, '1984': 650, '358': 651, '1615': 652, '1783': 653, '877': 654, '2130': 655, '542': 656, '275': 657, '2111': 658, '1589': 659, '1223': 660, '1071': 661, '130': 662, '1952': 663, '310': 664, '160': 665, '1603': 666, '1758': 667, '1052': 668, '328': 669, '730': 670, '1767': 671, '882': 672, '1126': 673, '2178': 674, '1848': 675, '2027': 676, '1902': 677, '766': 678, '581': 679, '1546': 680, '1243': 681, '710': 682, '688': 683, '63': 684, '1935': 685, '1992': 686, '37': 687, '1817': 688, '1876': 689, '491': 690, '1965': 691, '2003': 692, '16': 693, '1336': 694, '2210': 695, '374': 696, '1279': 697, '879': 698, '1938': 699, '1093': 700, '1830': 701, '712': 702, '32': 703, '756': 704, '1435': 705, '747': 706, '967': 707, '1152': 708, '18': 709, '361': 710, '548': 711, '500': 712, '1440': 713, '83': 714, '986': 715, '424': 716, '1726': 717, '299': 718, '318': 719, '2050': 720, '645': 721, '1135': 722, '941': 723, '1366': 724, '188': 725, '377': 726, '1114': 727, '2217': 728, '2213': 729, '245': 730, '663': 731, '1398': 732, '443': 733, '2216': 734, '1008': 735, '2031': 736, '76': 737, '1860': 738, '1280': 739, '1994': 740, '1995': 741, '231': 742, '1874': 743, '1234': 744, '1555': 745, '619': 746, '1043': 747, '1433': 748, '1583': 749, '1585': 750, '1624': 751, '2010': 752, '194': 753, '1106': 754, '239': 755, '2006': 756, '401': 757, '741': 758, '843': 759, '890': 760, '794': 761, '359': 762, '2083': 763, '268': 764, '1781': 765, '1415': 766, '982': 767, '252': 768, '701': 769, '984': 770, '547': 771, '176': 772, '543': 773, '2147': 774, '864': 775, '995': 776, '722': 777, '898': 778, '1639': 779, '2157': 780, '757': 781, '234': 782, '366': 783, '240': 784, '1467': 785, '62': 786, '829': 787, '1253': 788, '716': 789, '2009': 790, '940': 791, '1351': 792, '1127': 793, '660': 794, '1292': 795, '214': 796, '1183': 797, '1229': 798, '1761': 799, '340': 800, '670': 801, '1271': 802, '1370': 803, '80': 804, '408': 805, '1013': 806, '256': 807, '1283': 808, '1209': 809, '390': 810, '246': 811, '520': 812, '858': 813, '1744': 814, '770': 815, '301': 816, '907': 817, '1269': 818, '2064': 819, '219': 820, '444': 821, '1453': 822, '426': 823, '1863': 824, '1506': 825, '1050': 826, '616': 827, '948': 828, '1752': 829, '675': 830, '1753': 831, '693': 832, '1877': 833, '2188': 834, '327': 835, '614': 836, '207': 837, '1115': 838, '792': 839, '2020': 840, '341': 841, '174': 842, '1737': 843, '1104': 844, '1649': 845, '1203': 846, '415': 847, '249': 848, '487': 849, '195': 850, '2072': 851, '2185': 852, '1320': 853, '630': 854, '1179': 855, '1410': 856, '1027': 857, '1646': 858, '2208': 859, '1445': 860, '833': 861, '184': 862, '902': 863, '1428': 864, '1240': 865, '1803': 866, '1903': 867, '1432': 868, '1033': 869, '2117': 870, '1491': 871, '1652': 872, '365': 873, '731': 874, '951': 875, '300': 876, '1202': 877, '2212': 878, '1238': 879, '450': 880, '1706': 881, '689': 882, '1901': 883, '1493': 884, '196': 885, '1510': 886, '1908': 887, '985': 888, '1215': 889, '202': 890, '1347': 891, '1198': 892, '1331': 893, '802': 894, '1677': 895, '2197': 896, '978': 897, '86': 898, '143': 899, '2088': 900, '2059': 901, '241': 902, '221': 903, '1613': 904, '102': 905, '1492': 906, '571': 907, '1155': 908, '793': 909, '1955': 910, '106': 911, '279': 912, '655': 913, '1792': 914, '574': 915, '1676': 916, '1637': 917, '1034': 918, '2047': 919, '1708': 920, '1036': 921, '1504': 922, '4': 923, '1070': 924, '1323': 925, '2110': 926, '1212': 927, '204': 928, '1710': 929, '488': 930, '992': 931, '1024': 932, '1214': 933, '1346': 934, '1751': 935, '1473': 936, '1714': 937, '706': 938, '570': 939, '1801': 940, '253': 941, '2160': 942, '809': 943, '1633': 944, '648': 945, '641': 946, '1251': 947, '1750': 948, '686': 949, '1701': 950, '30': 951, '156': 952, '460': 953, '1149': 954, '679': 955, '167': 956, '613': 957, '959': 958, '66': 959, '628': 960, '2041': 961, '319': 962, '2073': 963, '2062': 964, '629': 965, '115': 966, '399': 967, '1480': 968, '815': 969, '935': 970, '298': 971, '75': 972, '233': 973, '661': 974, '943': 975, '709': 976, '2209': 977, '475': 978, '1755': 979, '705': 980, '1192': 981, '2069': 982, '622': 983, '419': 984, '740': 985, '672': 986, '1906': 987, '2161': 988, '1850': 989, '617': 990, '199': 991, '1697': 992, '1210': 993, '2045': 994, '1647': 995, '1827': 996, '2187': 997, '1897': 998, '1795': 999, '238': 1000, '2173': 1001, '1990': 1002, '1350': 1003, '1327': 1004, '2070': 1005, '153': 1006, '1368': 1007, '919': 1008, '1640': 1009, '1289': 1010, '21': 1011, '1081': 1012, '1475': 1013, '257': 1014, '2143': 1015, '1887': 1016, '423': 1017, '1790': 1018, '364': 1019, '2043': 1020, '1871': 1021, '1139': 1022, '323': 1023, '755': 1024, '944': 1025, '1702': 1026, '905': 1027, '631': 1028, '1690': 1029, '1452': 1030, '644': 1031, '1620': 1032, '1709': 1033, '750': 1034, '1494': 1035, '767': 1036, '587': 1037, '856': 1038, '1988': 1039, '2109': 1040, '1508': 1041, '1011': 1042, '2121': 1043, '1204': 1044, '637': 1045, '696': 1046, '517': 1047, '789': 1048, '1838': 1049, '1812': 1050, '250': 1051, '1378': 1052, '988': 1053, '2081': 1054, '407': 1055, '1429': 1056, '1841': 1057, '678': 1058, '2201': 1059, '1363': 1060, '1978': 1061, '1574': 1062, '1328': 1063, '528': 1064, '2075': 1065, '2056': 1066, '1449': 1067, '1337': 1068, '825': 1069, '290': 1070, '1248': 1071, '848': 1072, '20': 1073, '2032': 1074, '1375': 1075, '1211': 1076, '2067': 1077, '1667': 1078, '1963': 1079, '1602': 1080, '2214': 1081, '1925': 1082, '164': 1083, '1478': 1084, '2219': 1085, '1148': 1086, '1120': 1087, '1665': 1088, '74': 1089, '388': 1090, '1322': 1091, '1565': 1092, '2063': 1093, '70': 1094, '818': 1095, '2170': 1096, '1427': 1097, '1674': 1098, '834': 1099, '979': 1100, '135': 1101, '2029': 1102, '665': 1103, '1108': 1104, '1053': 1105, '1831': 1106, '1950': 1107, '1382': 1108, '790': 1109, '1217': 1110, '1741': 1111, '2015': 1112, '1177': 1113, '744': 1114, '1852': 1115, '1786': 1116, '820': 1117, '29': 1118, '1112': 1119, '2192': 1120, '2169': 1121, '695': 1122, '458': 1123, '478': 1124, '1799': 1125, '10': 1126, '759': 1127, '835': 1128, '1342': 1129, '801': 1130, '193': 1131, '1881': 1132, '1113': 1133, '1276': 1134, '1599': 1135, '329': 1136, '1611': 1137, '1993': 1138, '1103': 1139, '213': 1140, '389': 1141, '534': 1142, '2096': 1143, '187': 1144, '126': 1145, '1813': 1146, '589': 1147, '970': 1148, '1129': 1149, '1301': 1150, '824': 1151, '969': 1152, '1911': 1153, '1853': 1154, '1834': 1155, '1137': 1156, '1661': 1157, '1236': 1158, '2095': 1159, '2152': 1160, '1443': 1161, '1692': 1162, '1913': 1163, '909': 1164, '2158': 1165, '1989': 1166, '1682': 1167, '1005': 1168, '93': 1169, '1723': 1170, '566': 1171, '2019': 1172, '230': 1173, '209': 1174, '346': 1175, '1117': 1176, '1784': 1177, '920': 1178, '68': 1179, '728': 1180, '1377': 1181, '1824': 1182, '831': 1183, '685': 1184, '1414': 1185, '1815': 1186, '1397': 1187, '1818': 1188, '284': 1189, '1664': 1190, '1186': 1191, '1900': 1192, '1388': 1193, '1917': 1194, '255': 1195, '271': 1196, '1122': 1197, '1485': 1198, '2166': 1199, '1403': 1200, '1538': 1201, '1808': 1202, '880': 1203, '797': 1204, '923': 1205, '1821': 1206, '522': 1207, '14': 1208, '2080': 1209, '1263': 1210, '1156': 1211, '636': 1212, '170': 1213, '128': 1214, '1441': 1215, '386': 1216, '85': 1217, '2135': 1218, '1250': 1219, '384': 1220, '1560': 1221, '839': 1222, '1715': 1223, '1764': 1224, '918': 1225, '1650': 1226, '1465': 1227, '1572': 1228, '649': 1229, '560': 1230, '1489': 1231, '1057': 1232, '1073': 1233, '555': 1234, '1569': 1235, '863': 1236, '1003': 1237, '1273': 1238, '1942': 1239, '1610': 1240, '218': 1241, '1150': 1242, '1595': 1243, '1760': 1244, '1614': 1245, '1110': 1246, '1406': 1247, '494': 1248, '1095': 1249, '1948': 1250, '526': 1251, '1914': 1252, '1096': 1253, '198': 1254, '1678': 1255, '836': 1256, '2014': 1257, '1516': 1258, '1605': 1259, '2108': 1260, '1754': 1261, '1167': 1262, '175': 1263, '886': 1264, '225': 1265, '182': 1266, '1891': 1267, '657': 1268, '229': 1269, '200': 1270, '1495': 1271, '583': 1272, '960': 1273, '946': 1274, '2177': 1275, '484': 1276, '1118': 1277, '780': 1278, '1169': 1279, '993': 1280, '1450': 1281, '1835': 1282, '416': 1283, '430': 1284, '934': 1285, '1486': 1286, '989': 1287, '28': 1288, '88': 1289, '656': 1290, '1657': 1291, '791': 1292, '1618': 1293, '433': 1294, '111': 1295, '1873': 1296, '1160': 1297, '101': 1298, '1369': 1299, '2221': 1300, '916': 1301, '288': 1302, '2193': 1303, '98': 1304, '888': 1305, '1004': 1306, '1943': 1307, '1571': 1308, '912': 1309, '1533': 1310, '550': 1311, '1261': 1312, '1231': 1313, '507': 1314, '1707': 1315, '774': 1316, '2142': 1317, '145': 1318, '119': 1319, '2183': 1320, '860': 1321, '1791': 1322, '2060': 1323, '1282': 1324, '1372': 1325, '132': 1326, '2164': 1327, '1037': 1328, '1386': 1329, '1651': 1330, '1524': 1331, '436': 1332, '2012': 1333, '117': 1334, '1247': 1335, '1082': 1336, '615': 1337, '1332': 1338, '2198': 1339, '885': 1340, '1054': 1341, '312': 1342, '1197': 1343, '1734': 1344, '2114': 1345, '1788': 1346, '35': 1347, '1884': 1348, '873': 1349, '889': 1350, '2026': 1351, '926': 1352, '2148': 1353, '936': 1354, '903': 1355, '842': 1356, '1609': 1357, '104': 1358, '2091': 1359, '1380': 1360, '165': 1361, '1947': 1362, '1820': 1363, '1097': 1364, '189': 1365, '609': 1366, '320': 1367, '1056': 1368, '395': 1369, '738': 1370, '2112': 1371, '1241': 1372, '557': 1373, '2004': 1374, '54': 1375, '2180': 1376, '753': 1377, '473': 1378, '44': 1379, '169': 1380, '208': 1381, '201': 1382, '291': 1383, '1245': 1384, '1969': 1385, '363': 1386, '565': 1387, '2084': 1388, '804': 1389, '729': 1390, '479': 1391, '1854': 1392, '1409': 1393, '1314': 1394, '1481': 1395, '1413': 1396, '94': 1397, '1937': 1398, '1436': 1399, '1630': 1400, '1814': 1401, '387': 1402, '1421': 1403, '595': 1404, '477': 1405, '929': 1406, '2120': 1407, '1500': 1408, '1731': 1409, '957': 1410, '1655': 1411, '232': 1412, '33': 1413, '654': 1414, '1130': 1415, '311': 1416, '1355': 1417, '192': 1418, '697': 1419, '1062': 1420, '2078': 1421, '1687': 1422, '159': 1423, '7': 1424, '1089': 1425, '274': 1426, '1228': 1427, '896': 1428, '120': 1429, '1920': 1430, '1042': 1431, '788': 1432, '1178': 1433, '1689': 1434, '1868': 1435, '1166': 1436, '718': 1437, '1333': 1438, '155': 1439, '1111': 1440, '1525': 1441, '816': 1442, '1864': 1443, '1490': 1444, '1886': 1445, '1511': 1446, '1072': 1447, '1730': 1448, '181': 1449, '772': 1450, '2149': 1451, '1949': 1452, '2207': 1453, '2145': 1454, '1075': 1455, '1600': 1456, '955': 1457, '1505': 1458, '166': 1459, '2206': 1460, '714': 1461, '314': 1462, '605': 1463, '2102': 1464, '1454': 1465, '403': 1466, '1064': 1467, '937': 1468, '454': 1469, '1819': 1470, '1739': 1471, '1870': 1472, '1806': 1473, '304': 1474, '1257': 1475, '980': 1476, '783': 1477, '883': 1478, '1144': 1479, '2058': 1480, '1124': 1481, '950': 1482, '1880': 1483, '1904': 1484, '1774': 1485, '857': 1486, '325': 1487, '1590': 1488, '1587': 1489, '538': 1490}\n",
      "\n",
      "First ten sequences [[1], [2], [3], [4], [5], [6], [7], [8], [9], [10]]\n",
      "\n"
     ]
    }
   ],
   "source": [
    "label_sequences, label_word_index = tokenize_labels(labels)\n",
    "print(f\"Vocabulary of labels looks like this {label_word_index}\\n\")\n",
    "print(f\"First ten sequences {label_sequences[:10]}\\n\")"
   ]
  }
 ],
 "metadata": {
  "kernelspec": {
   "display_name": "Python 3 (ipykernel)",
   "language": "python",
   "name": "python3"
  },
  "language_info": {
   "codemirror_mode": {
    "name": "ipython",
    "version": 3
   },
   "file_extension": ".py",
   "mimetype": "text/x-python",
   "name": "python",
   "nbconvert_exporter": "python",
   "pygments_lexer": "ipython3",
   "version": "3.9.12"
  }
 },
 "nbformat": 4,
 "nbformat_minor": 5
}
