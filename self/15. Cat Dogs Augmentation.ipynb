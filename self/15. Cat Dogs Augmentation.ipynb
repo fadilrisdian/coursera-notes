{
 "cells": [
  {
   "cell_type": "code",
   "execution_count": 1,
   "id": "c0223ee3",
   "metadata": {},
   "outputs": [],
   "source": [
    "import os\n",
    "import zipfile"
   ]
  },
  {
   "cell_type": "code",
   "execution_count": 2,
   "id": "55344da6",
   "metadata": {},
   "outputs": [],
   "source": [
    "# Assign training and validation set directories\n",
    "base_dir = 'cats_and_dogs_filtered'\n",
    "train_dir = os.path.join(base_dir, 'train')\n",
    "validation_dir = os.path.join(base_dir, 'validation')\n",
    "\n",
    "# Directory with training cat pictures\n",
    "train_cats_dir = os.path.join(train_dir, 'cats')\n",
    "\n",
    "# Directory with training dog pictures\n",
    "train_dogs_dir = os.path.join(train_dir, 'dogs')\n",
    "\n",
    "# Directory with validation cat pictures\n",
    "validation_cats_dir = os.path.join(validation_dir, 'cats')\n",
    "\n",
    "# Directory with validation dog pictures\n",
    "validation_dogs_dir = os.path.join(validation_dir, 'dogs')"
   ]
  },
  {
   "cell_type": "code",
   "execution_count": 3,
   "id": "1fc40dab",
   "metadata": {},
   "outputs": [
    {
     "name": "stderr",
     "output_type": "stream",
     "text": [
      "2022-06-18 11:49:28.224746: W tensorflow/stream_executor/platform/default/dso_loader.cc:64] Could not load dynamic library 'libcudart.so.11.0'; dlerror: libcudart.so.11.0: cannot open shared object file: No such file or directory\n",
      "2022-06-18 11:49:28.224779: I tensorflow/stream_executor/cuda/cudart_stub.cc:29] Ignore above cudart dlerror if you do not have a GPU set up on your machine.\n"
     ]
    }
   ],
   "source": [
    "import tensorflow as tf\n",
    "from tensorflow.keras.optimizers import RMSprop\n",
    "\n",
    "def create_model():\n",
    "  '''Creates a CNN with 4 convolutional layers'''\n",
    "  model = tf.keras.models.Sequential([\n",
    "      tf.keras.layers.Conv2D(32, (3,3), activation='relu', input_shape=(150, 150, 3)),\n",
    "      tf.keras.layers.MaxPooling2D(2, 2),\n",
    "      tf.keras.layers.Conv2D(64, (3,3), activation='relu'),\n",
    "      tf.keras.layers.MaxPooling2D(2,2),\n",
    "      tf.keras.layers.Conv2D(128, (3,3), activation='relu'),\n",
    "      tf.keras.layers.MaxPooling2D(2,2),\n",
    "      tf.keras.layers.Conv2D(128, (3,3), activation='relu'),\n",
    "      tf.keras.layers.MaxPooling2D(2,2),\n",
    "      tf.keras.layers.Flatten(),\n",
    "      tf.keras.layers.Dense(512, activation='relu'),\n",
    "      tf.keras.layers.Dense(1, activation='sigmoid')\n",
    "  ])\n",
    "\n",
    "  model.compile(loss='binary_crossentropy',\n",
    "                optimizer=RMSprop(learning_rate=1e-4),\n",
    "                metrics=['accuracy'])\n",
    "  \n",
    "  return model"
   ]
  },
  {
   "cell_type": "code",
   "execution_count": 4,
   "id": "6abe5d5c",
   "metadata": {},
   "outputs": [
    {
     "name": "stdout",
     "output_type": "stream",
     "text": [
      "Found 2000 images belonging to 2 classes.\n",
      "Found 1000 images belonging to 2 classes.\n"
     ]
    }
   ],
   "source": [
    "from tensorflow.keras.preprocessing.image import ImageDataGenerator\n",
    "\n",
    "# All images will be rescaled by 1./255\n",
    "train_datagen = ImageDataGenerator(rescale=1./255)\n",
    "test_datagen = ImageDataGenerator(rescale=1./255)\n",
    "\n",
    "# Flow training images in batches of 20 using train_datagen generator\n",
    "train_generator = train_datagen.flow_from_directory(\n",
    "        train_dir,  # This is the source directory for training images\n",
    "        target_size=(150, 150),  # All images will be resized to 150x150\n",
    "        batch_size=20,\n",
    "        # Since we use binary_crossentropy loss, we need binary labels\n",
    "        class_mode='binary')\n",
    "\n",
    "# Flow validation images in batches of 20 using test_datagen generator\n",
    "validation_generator = test_datagen.flow_from_directory(\n",
    "        validation_dir,\n",
    "        target_size=(150, 150),\n",
    "        batch_size=20,\n",
    "        class_mode='binary')"
   ]
  },
  {
   "cell_type": "code",
   "execution_count": 5,
   "id": "7a9dfb95",
   "metadata": {},
   "outputs": [
    {
     "name": "stderr",
     "output_type": "stream",
     "text": [
      "2022-06-18 11:50:07.480843: W tensorflow/stream_executor/platform/default/dso_loader.cc:64] Could not load dynamic library 'libcuda.so.1'; dlerror: libcuda.so.1: cannot open shared object file: No such file or directory\n",
      "2022-06-18 11:50:07.480877: W tensorflow/stream_executor/cuda/cuda_driver.cc:269] failed call to cuInit: UNKNOWN ERROR (303)\n",
      "2022-06-18 11:50:07.480904: I tensorflow/stream_executor/cuda/cuda_diagnostics.cc:156] kernel driver does not appear to be running on this host (fadilrisdian-X455LAB): /proc/driver/nvidia/version does not exist\n",
      "2022-06-18 11:50:07.481513: I tensorflow/core/platform/cpu_feature_guard.cc:193] This TensorFlow binary is optimized with oneAPI Deep Neural Network Library (oneDNN) to use the following CPU instructions in performance-critical operations:  AVX2 FMA\n",
      "To enable them in other operations, rebuild TensorFlow with the appropriate compiler flags.\n"
     ]
    },
    {
     "name": "stdout",
     "output_type": "stream",
     "text": [
      "Epoch 1/20\n",
      "100/100 - 88s - loss: 0.6903 - accuracy: 0.5235 - val_loss: 0.6716 - val_accuracy: 0.6260 - 88s/epoch - 883ms/step\n",
      "Epoch 2/20\n",
      "100/100 - 90s - loss: 0.6559 - accuracy: 0.6235 - val_loss: 0.6520 - val_accuracy: 0.6060 - 90s/epoch - 896ms/step\n",
      "Epoch 3/20\n",
      "100/100 - 80s - loss: 0.6055 - accuracy: 0.6745 - val_loss: 0.5911 - val_accuracy: 0.6870 - 80s/epoch - 798ms/step\n",
      "Epoch 4/20\n",
      "100/100 - 78s - loss: 0.5613 - accuracy: 0.7045 - val_loss: 0.5751 - val_accuracy: 0.7020 - 78s/epoch - 784ms/step\n",
      "Epoch 5/20\n",
      "100/100 - 79s - loss: 0.5361 - accuracy: 0.7285 - val_loss: 0.5662 - val_accuracy: 0.7020 - 79s/epoch - 788ms/step\n",
      "Epoch 6/20\n",
      "100/100 - 79s - loss: 0.5035 - accuracy: 0.7550 - val_loss: 0.5656 - val_accuracy: 0.7050 - 79s/epoch - 785ms/step\n",
      "Epoch 7/20\n",
      "100/100 - 79s - loss: 0.4805 - accuracy: 0.7605 - val_loss: 0.5482 - val_accuracy: 0.7230 - 79s/epoch - 786ms/step\n",
      "Epoch 8/20\n",
      "100/100 - 79s - loss: 0.4554 - accuracy: 0.7860 - val_loss: 0.5589 - val_accuracy: 0.7120 - 79s/epoch - 786ms/step\n",
      "Epoch 9/20\n",
      "100/100 - 79s - loss: 0.4287 - accuracy: 0.7980 - val_loss: 0.5544 - val_accuracy: 0.7130 - 79s/epoch - 786ms/step\n",
      "Epoch 10/20\n",
      "100/100 - 78s - loss: 0.4062 - accuracy: 0.8155 - val_loss: 0.5546 - val_accuracy: 0.7300 - 78s/epoch - 779ms/step\n",
      "Epoch 11/20\n",
      "100/100 - 78s - loss: 0.3861 - accuracy: 0.8290 - val_loss: 0.5860 - val_accuracy: 0.7130 - 78s/epoch - 784ms/step\n",
      "Epoch 12/20\n",
      "100/100 - 80s - loss: 0.3537 - accuracy: 0.8455 - val_loss: 0.6381 - val_accuracy: 0.6980 - 80s/epoch - 798ms/step\n",
      "Epoch 13/20\n",
      "100/100 - 100s - loss: 0.3357 - accuracy: 0.8515 - val_loss: 0.5342 - val_accuracy: 0.7540 - 100s/epoch - 998ms/step\n",
      "Epoch 14/20\n",
      "100/100 - 103s - loss: 0.3126 - accuracy: 0.8735 - val_loss: 0.5820 - val_accuracy: 0.7370 - 103s/epoch - 1s/step\n",
      "Epoch 15/20\n",
      "100/100 - 78s - loss: 0.2914 - accuracy: 0.8775 - val_loss: 0.5449 - val_accuracy: 0.7490 - 78s/epoch - 783ms/step\n",
      "Epoch 16/20\n",
      "100/100 - 79s - loss: 0.2688 - accuracy: 0.8835 - val_loss: 0.7623 - val_accuracy: 0.6990 - 79s/epoch - 788ms/step\n",
      "Epoch 17/20\n",
      "100/100 - 79s - loss: 0.2446 - accuracy: 0.9080 - val_loss: 0.6138 - val_accuracy: 0.7280 - 79s/epoch - 786ms/step\n",
      "Epoch 18/20\n",
      "100/100 - 79s - loss: 0.2310 - accuracy: 0.9115 - val_loss: 0.5701 - val_accuracy: 0.7470 - 79s/epoch - 790ms/step\n",
      "Epoch 19/20\n",
      "100/100 - 79s - loss: 0.2108 - accuracy: 0.9225 - val_loss: 0.6245 - val_accuracy: 0.7310 - 79s/epoch - 791ms/step\n",
      "Epoch 20/20\n",
      "100/100 - 82s - loss: 0.1919 - accuracy: 0.9285 - val_loss: 0.6185 - val_accuracy: 0.7400 - 82s/epoch - 816ms/step\n"
     ]
    }
   ],
   "source": [
    "# Constant for epochs\n",
    "EPOCHS = 20\n",
    "\n",
    "# Create a new model\n",
    "model = create_model()\n",
    "\n",
    "# Train the model\n",
    "history = model.fit(\n",
    "      train_generator,\n",
    "      steps_per_epoch=100,  # 2000 images = batch_size * steps\n",
    "      epochs=EPOCHS,\n",
    "      validation_data=validation_generator,\n",
    "      validation_steps=50,  # 1000 images = batch_size * steps\n",
    "      verbose=2)"
   ]
  },
  {
   "cell_type": "code",
   "execution_count": 6,
   "id": "d70c2fc2",
   "metadata": {},
   "outputs": [],
   "source": [
    "import matplotlib.pyplot as plt\n",
    "\n",
    "def plot_loss_acc(history):\n",
    "  '''Plots the training and validation loss and accuracy from a history object'''\n",
    "  acc = history.history['accuracy']\n",
    "  val_acc = history.history['val_accuracy']\n",
    "  loss = history.history['loss']\n",
    "  val_loss = history.history['val_loss']\n",
    "\n",
    "  epochs = range(len(acc))\n",
    "\n",
    "  plt.plot(epochs, acc, 'bo', label='Training accuracy')\n",
    "  plt.plot(epochs, val_acc, 'b', label='Validation accuracy')\n",
    "  plt.title('Training and validation accuracy')\n",
    "\n",
    "  plt.figure()\n",
    "\n",
    "  plt.plot(epochs, loss, 'bo', label='Training Loss')\n",
    "  plt.plot(epochs, val_loss, 'b', label='Validation Loss')\n",
    "  plt.title('Training and validation loss')\n",
    "  plt.legend()\n",
    "\n",
    "  plt.show()"
   ]
  },
  {
   "cell_type": "code",
   "execution_count": 7,
   "id": "0d271616",
   "metadata": {},
   "outputs": [
    {
     "data": {
      "image/png": "[encoded data removed]",
      "text/plain": [
       "<Figure size 432x288 with 1 Axes>"
      ]
     },
     "metadata": {
      "needs_background": "light"
     },
     "output_type": "display_data"
    },
    {
     "data": {
      "image/png": "[encoded data removed]",
      "text/plain": [
       "<Figure size 432x288 with 1 Axes>"
      ]
     },
     "metadata": {
      "needs_background": "light"
     },
     "output_type": "display_data"
    }
   ],
   "source": [
    "# Plot training results\n",
    "plot_loss_acc(history)"
   ]
  },
  {
   "cell_type": "code",
   "execution_count": null,
   "id": "c1ff531b",
   "metadata": {},
   "outputs": [],
   "source": [
    "#It's overfitting, let's try to do augmentation"
   ]
  },
  {
   "cell_type": "code",
   "execution_count": 8,
   "id": "949de324",
   "metadata": {},
   "outputs": [
    {
     "name": "stdout",
     "output_type": "stream",
     "text": [
      "Found 2000 images belonging to 2 classes.\n",
      "Found 1000 images belonging to 2 classes.\n",
      "Epoch 1/20\n",
      "100/100 - 86s - loss: 0.6914 - accuracy: 0.5275 - val_loss: 0.6839 - val_accuracy: 0.5020 - 86s/epoch - 863ms/step\n",
      "Epoch 2/20\n",
      "100/100 - 84s - loss: 0.6805 - accuracy: 0.5645 - val_loss: 0.6536 - val_accuracy: 0.6010 - 84s/epoch - 838ms/step\n",
      "Epoch 3/20\n",
      "100/100 - 85s - loss: 0.6668 - accuracy: 0.5910 - val_loss: 0.6649 - val_accuracy: 0.5800 - 85s/epoch - 851ms/step\n",
      "Epoch 4/20\n",
      "100/100 - 85s - loss: 0.6487 - accuracy: 0.6105 - val_loss: 0.6187 - val_accuracy: 0.6530 - 85s/epoch - 850ms/step\n",
      "Epoch 5/20\n",
      "100/100 - 86s - loss: 0.6260 - accuracy: 0.6365 - val_loss: 0.6319 - val_accuracy: 0.6400 - 86s/epoch - 858ms/step\n",
      "Epoch 6/20\n",
      "100/100 - 84s - loss: 0.6213 - accuracy: 0.6460 - val_loss: 0.5721 - val_accuracy: 0.7030 - 84s/epoch - 840ms/step\n",
      "Epoch 7/20\n",
      "100/100 - 83s - loss: 0.6059 - accuracy: 0.6685 - val_loss: 0.5659 - val_accuracy: 0.7140 - 83s/epoch - 832ms/step\n",
      "Epoch 8/20\n",
      "100/100 - 83s - loss: 0.6112 - accuracy: 0.6565 - val_loss: 0.5499 - val_accuracy: 0.7280 - 83s/epoch - 832ms/step\n",
      "Epoch 9/20\n",
      "100/100 - 83s - loss: 0.5841 - accuracy: 0.6920 - val_loss: 0.5490 - val_accuracy: 0.7090 - 83s/epoch - 829ms/step\n",
      "Epoch 10/20\n",
      "100/100 - 84s - loss: 0.5804 - accuracy: 0.6905 - val_loss: 0.5789 - val_accuracy: 0.6930 - 84s/epoch - 837ms/step\n",
      "Epoch 11/20\n",
      "100/100 - 85s - loss: 0.5792 - accuracy: 0.6830 - val_loss: 0.5422 - val_accuracy: 0.7150 - 85s/epoch - 848ms/step\n",
      "Epoch 12/20\n",
      "100/100 - 84s - loss: 0.5612 - accuracy: 0.7030 - val_loss: 0.5564 - val_accuracy: 0.7090 - 84s/epoch - 838ms/step\n",
      "Epoch 13/20\n",
      "100/100 - 83s - loss: 0.5638 - accuracy: 0.7070 - val_loss: 0.5168 - val_accuracy: 0.7300 - 83s/epoch - 833ms/step\n",
      "Epoch 14/20\n",
      "100/100 - 84s - loss: 0.5500 - accuracy: 0.7235 - val_loss: 0.5166 - val_accuracy: 0.7270 - 84s/epoch - 837ms/step\n",
      "Epoch 15/20\n",
      "100/100 - 85s - loss: 0.5446 - accuracy: 0.7210 - val_loss: 0.5886 - val_accuracy: 0.6960 - 85s/epoch - 853ms/step\n",
      "Epoch 16/20\n",
      "100/100 - 104s - loss: 0.5474 - accuracy: 0.7310 - val_loss: 0.5303 - val_accuracy: 0.7160 - 104s/epoch - 1s/step\n",
      "Epoch 17/20\n",
      "100/100 - 89s - loss: 0.5504 - accuracy: 0.7135 - val_loss: 0.5010 - val_accuracy: 0.7460 - 89s/epoch - 888ms/step\n",
      "Epoch 18/20\n",
      "100/100 - 93s - loss: 0.5408 - accuracy: 0.7200 - val_loss: 0.5296 - val_accuracy: 0.7330 - 93s/epoch - 932ms/step\n",
      "Epoch 19/20\n",
      "100/100 - 98s - loss: 0.5415 - accuracy: 0.7195 - val_loss: 0.5245 - val_accuracy: 0.7150 - 98s/epoch - 979ms/step\n",
      "Epoch 20/20\n",
      "100/100 - 83s - loss: 0.5383 - accuracy: 0.7370 - val_loss: 0.5284 - val_accuracy: 0.7170 - 83s/epoch - 830ms/step\n"
     ]
    }
   ],
   "source": [
    "# Create new model\n",
    "model_for_aug = create_model()\n",
    "\n",
    "# This code has changed. Now instead of the ImageGenerator just rescaling\n",
    "# the image, we also rotate and do other operations\n",
    "train_datagen = ImageDataGenerator(\n",
    "      rescale=1./255,\n",
    "      rotation_range=40,\n",
    "      width_shift_range=0.2,\n",
    "      height_shift_range=0.2,\n",
    "      shear_range=0.2,\n",
    "      zoom_range=0.2,\n",
    "      horizontal_flip=True,\n",
    "      fill_mode='nearest')\n",
    "\n",
    "test_datagen = ImageDataGenerator(rescale=1./255)\n",
    "\n",
    "# Flow training images in batches of 20 using train_datagen generator\n",
    "train_generator = train_datagen.flow_from_directory(\n",
    "        train_dir,  # This is the source directory for training images\n",
    "        target_size=(150, 150),  # All images will be resized to 150x150\n",
    "        batch_size=20,\n",
    "        # Since we use binary_crossentropy loss, we need binary labels\n",
    "        class_mode='binary')\n",
    "\n",
    "# Flow validation images in batches of 20 using test_datagen generator\n",
    "validation_generator = test_datagen.flow_from_directory(\n",
    "        validation_dir,\n",
    "        target_size=(150, 150),\n",
    "        batch_size=20,\n",
    "        class_mode='binary')\n",
    "\n",
    "# Train the new model\n",
    "history_with_aug = model_for_aug.fit(\n",
    "      train_generator,\n",
    "      steps_per_epoch=100,  # 2000 images = batch_size * steps\n",
    "      epochs=EPOCHS,\n",
    "      validation_data=validation_generator,\n",
    "      validation_steps=50,  # 1000 images = batch_size * steps\n",
    "      verbose=2)"
   ]
  },
  {
   "cell_type": "code",
   "execution_count": 9,
   "id": "a7a11e28",
   "metadata": {},
   "outputs": [
    {
     "data": {
      "image/png": "[encoded data removed]",
      "text/plain": [
       "<Figure size 432x288 with 1 Axes>"
      ]
     },
     "metadata": {
      "needs_background": "light"
     },
     "output_type": "display_data"
    },
    {
     "data": {
      "image/png": "[encoded data removed]",
      "text/plain": [
       "<Figure size 432x288 with 1 Axes>"
      ]
     },
     "metadata": {
      "needs_background": "light"
     },
     "output_type": "display_data"
    }
   ],
   "source": [
    "# Plot the results of training with data augmentation\n",
    "plot_loss_acc(history_with_aug)"
   ]
  }
 ],
 "metadata": {
  "kernelspec": {
   "display_name": "Python 3 (ipykernel)",
   "language": "python",
   "name": "python3"
  },
  "language_info": {
   "codemirror_mode": {
    "name": "ipython",
    "version": 3
   },
   "file_extension": ".py",
   "mimetype": "text/x-python",
   "name": "python",
   "nbconvert_exporter": "python",
   "pygments_lexer": "ipython3",
   "version": "3.10.4"
  }
 },
 "nbformat": 4,
 "nbformat_minor": 5
}
