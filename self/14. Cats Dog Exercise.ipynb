{
 "cells": [
  {
   "cell_type": "code",
   "execution_count": 39,
   "id": "441fff8d",
   "metadata": {},
   "outputs": [],
   "source": [
    "import os\n",
    "import zipfile\n",
    "import random\n",
    "import shutil\n",
    "import tensorflow as tf\n",
    "from tensorflow.keras.preprocessing.image import ImageDataGenerator\n",
    "from shutil import copyfile\n",
    "import matplotlib.pyplot as plt"
   ]
  },
  {
   "cell_type": "code",
   "execution_count": null,
   "id": "0d3b5e37",
   "metadata": {},
   "outputs": [],
   "source": [
    "# # If the URL doesn't work, visit https://www.microsoft.com/en-us/download/confirmation.aspx?id=54765\n",
    "# # And right click on the 'Download Manually' link to get a new URL to the dataset\n",
    "\n",
    "# # Note: This is a very large dataset and will take some time to download\n",
    "\n",
    "# !wget https://download.microsoft.com/download/3/E/1/3E1C3F21-ECDB-4869-8368-6DEBA77B919F/kagglecatsanddogs_5340.zip"
   ]
  },
  {
   "cell_type": "code",
   "execution_count": null,
   "id": "3a23ea75",
   "metadata": {},
   "outputs": [],
   "source": [
    "# local_zip = 'kagglecatsanddogs_5340.zip'\n",
    "# zip_ref   = zipfile.ZipFile(local_zip, 'r')\n",
    "# zip_ref.extractall()\n",
    "# zip_ref.close()"
   ]
  },
  {
   "cell_type": "code",
   "execution_count": 40,
   "id": "a24ea09d",
   "metadata": {},
   "outputs": [
    {
     "name": "stdout",
     "output_type": "stream",
     "text": [
      "There are 12501 images of dogs.\n",
      "There are 12501 images of cats.\n"
     ]
    }
   ],
   "source": [
    "source_path = 'PetImages'\n",
    "\n",
    "source_path_dogs = os.path.join(source_path, 'Dog')\n",
    "source_path_cats = os.path.join(source_path, 'Cat')\n",
    "\n",
    "\n",
    "# os.listdir returns a list containing all files under the given path\n",
    "print(f\"There are {len(os.listdir(source_path_dogs))} images of dogs.\")\n",
    "print(f\"There are {len(os.listdir(source_path_cats))} images of cats.\")"
   ]
  },
  {
   "cell_type": "code",
   "execution_count": 41,
   "id": "aa309cc1",
   "metadata": {},
   "outputs": [],
   "source": [
    "# Define root directory\n",
    "root_dir = 'cats-v-dogs'\n",
    "\n",
    "# Empty directory to prevent FileExistsError is the function is run several times\n",
    "if os.path.exists(root_dir):\n",
    "  shutil.rmtree(root_dir)"
   ]
  },
  {
   "cell_type": "code",
   "execution_count": 42,
   "id": "1775adb2",
   "metadata": {},
   "outputs": [],
   "source": [
    "# GRADED FUNCTION: create_train_val_dirs\n",
    "def create_train_val_dirs(root_path):\n",
    "    os.makedirs(os.path.join(root_path, 'training/cats'))\n",
    "    os.makedirs(os.path.join(root_path, 'training/dogs'))\n",
    "    os.makedirs(os.path.join(root_path, 'testing/cats'))\n",
    "    os.makedirs(os.path.join(root_path, 'testing/dogs'))\n",
    "  \n",
    "    #Creates directories for the train and test sets\n",
    "    #root_path (string) - the base directory path to create subdirectories from\n",
    "  \n",
    "    # Use os.makedirs to create your directories with intermediate subdirectories\n",
    "    # Don't hardcode the paths. Use os.path.join to append the new directories to the root_path parameter\n",
    "    \n",
    "    pass\n",
    "\n",
    "  ### END CODE HERE"
   ]
  },
  {
   "cell_type": "code",
   "execution_count": 43,
   "id": "5bb38c60",
   "metadata": {},
   "outputs": [],
   "source": [
    "try:\n",
    "  create_train_val_dirs(root_path=root_dir)\n",
    "except FileExistsError:\n",
    "  print(\"You should not be seeing this since the upper directory is removed beforehand\")"
   ]
  },
  {
   "cell_type": "code",
   "execution_count": null,
   "id": "fdf1fe36",
   "metadata": {},
   "outputs": [],
   "source": [
    "# Test your create_train_val_dirs function\n",
    "\n",
    "for rootdir, dirs, files in os.walk(root_dir):\n",
    "    for subdir in dirs:\n",
    "        print(os.path.join(rootdir, subdir))"
   ]
  },
  {
   "cell_type": "code",
   "execution_count": null,
   "id": "9f036a20",
   "metadata": {},
   "outputs": [],
   "source": [
    "#SPLIT DATASET\n"
   ]
  },
  {
   "cell_type": "code",
   "execution_count": 90,
   "id": "7f8b6849",
   "metadata": {},
   "outputs": [],
   "source": [
    "# GRADED FUNCTION: split_data\n",
    "def split_data(SOURCE_DIR, TRAINING_DIR, VALIDATION_DIR, SPLIT_SIZE):\n",
    "    list_dir = []\n",
    "    for files in os.listdir(SOURCE_DIR):\n",
    "        if os.path.getsize(os.path.join(SOURCE_DIR, files)) > 0:\n",
    "            list_dir.append(files)\n",
    "        else:\n",
    "            print(f\"{files} is zero length, so ignoring\")\n",
    "        \n",
    "        training_length = int(len(list_dir) * SPLIT_SIZE)\n",
    "        testing_length = int(len(list_dir) - training_length)\n",
    "        shuffled_set = random.sample(list_dir, len(list_dir))\n",
    "        training_set = shuffled_set[0:training_length]\n",
    "        testing_set = shuffled_set[-testing_length:]\n",
    "    \n",
    "    for files in training_set:\n",
    "        copyfile(os.path.join(SOURCE_DIR, files), os.path.join(TRAINING_DIR, files))\n",
    "        \n",
    "    for files in testing_set:\n",
    "        copyfile(os.path.join(SOURCE_DIR, files), os.path.join(VALIDATION_DIR, files))\n",
    "    \n",
    "    pass\n",
    "\n",
    "\n"
   ]
  },
  {
   "cell_type": "code",
   "execution_count": 91,
   "id": "c55c2376",
   "metadata": {},
   "outputs": [
    {
     "data": {
      "text/plain": [
       "'cats-v-dogs/testing/cats/'"
      ]
     },
     "execution_count": 91,
     "metadata": {},
     "output_type": "execute_result"
    }
   ],
   "source": [
    "VALIDATION_CATS_DIR"
   ]
  },
  {
   "cell_type": "code",
   "execution_count": 92,
   "id": "09260e05",
   "metadata": {
    "scrolled": true
   },
   "outputs": [],
   "source": [
    "# Test your split_data function\n",
    "\n",
    "# Define paths\n",
    "CAT_SOURCE_DIR = \"PetImages/Cat/\"\n",
    "DOG_SOURCE_DIR = \"PetImages/Dog/\"\n",
    "\n",
    "TRAINING_DIR = \"cats-v-dogs/training/\"\n",
    "VALIDATION_DIR = \"cats-v-dogs/testing/\"\n",
    "\n",
    "TRAINING_CATS_DIR = os.path.join(TRAINING_DIR, \"cats/\")\n",
    "VALIDATION_CATS_DIR = os.path.join(VALIDATION_DIR, \"cats/\")\n",
    "\n",
    "TRAINING_DOGS_DIR = os.path.join(TRAINING_DIR, \"dogs/\")\n",
    "VALIDATION_DOGS_DIR = os.path.join(VALIDATION_DIR, \"dogs/\")"
   ]
  },
  {
   "cell_type": "code",
   "execution_count": 93,
   "id": "35dc8668",
   "metadata": {},
   "outputs": [
    {
     "data": {
      "text/plain": [
       "[]"
      ]
     },
     "execution_count": 93,
     "metadata": {},
     "output_type": "execute_result"
    }
   ],
   "source": [
    "os.listdir(VALIDATION_CATS_DIR)"
   ]
  },
  {
   "cell_type": "code",
   "execution_count": 94,
   "id": "5910e4b8",
   "metadata": {},
   "outputs": [],
   "source": [
    "# Empty directories in case you run this cell multiple times\n",
    "if len(os.listdir(TRAINING_CATS_DIR)) > 0:\n",
    "    for file in os.scandir(TRAINING_CATS_DIR):\n",
    "        os.remove(file.path)\n",
    "if len(os.listdir(TRAINING_DOGS_DIR)) > 0:\n",
    "    for file in os.scandir(TRAINING_DOGS_DIR):\n",
    "        os.remove(file.path)\n",
    "if len(os.listdir(VALIDATION_CATS_DIR)) > 0:\n",
    "    for file in os.scandir(VALIDATION_CATS_DIR):\n",
    "        os.remove(file.path)\n",
    "if len(os.listdir(VALIDATION_DOGS_DIR)) > 0:\n",
    "    for file in os.scandir(VALIDATION_DOGS_DIR):\n",
    "        os.remove(file.path)"
   ]
  },
  {
   "cell_type": "code",
   "execution_count": 95,
   "id": "b13f5ad8",
   "metadata": {},
   "outputs": [
    {
     "name": "stdout",
     "output_type": "stream",
     "text": [
      "666.jpg is zero length, so ignoring\n",
      "7775.jpg is zero length, so ignoring\n",
      "11702.jpg is zero length, so ignoring\n",
      "\n",
      "\n",
      "There are 11250 images of cats for training\n",
      "There are 11249 images of dogs for training\n",
      "There are 1250 images of cats for validation\n",
      "There are 1250 images of dogs for validation\n"
     ]
    }
   ],
   "source": [
    "\n",
    "# Define proportion of images used for training\n",
    "split_size = .9\n",
    "\n",
    "# Run the function\n",
    "# NOTE: Messages about zero length images should be printed out\n",
    "split_data(CAT_SOURCE_DIR, TRAINING_CATS_DIR, VALIDATION_CATS_DIR, split_size)\n",
    "split_data(DOG_SOURCE_DIR, TRAINING_DOGS_DIR, VALIDATION_DOGS_DIR, split_size)\n",
    "\n",
    "# Check that the number of images matches the expected output\n",
    "print(f\"\\n\\nThere are {len(os.listdir(TRAINING_CATS_DIR))} images of cats for training\")\n",
    "print(f\"There are {len(os.listdir(TRAINING_DOGS_DIR))} images of dogs for training\")\n",
    "print(f\"There are {len(os.listdir(VALIDATION_CATS_DIR))} images of cats for validation\")\n",
    "print(f\"There are {len(os.listdir(VALIDATION_DOGS_DIR))} images of dogs for validation\")"
   ]
  },
  {
   "cell_type": "code",
   "execution_count": 96,
   "id": "59149c00",
   "metadata": {},
   "outputs": [],
   "source": [
    "# GRADED FUNCTION: train_val_generators\n",
    "def train_val_generators(TRAINING_DIR, VALIDATION_DIR):\n",
    "  \n",
    "  train_datagen = ImageDataGenerator(rescale = 1./255)\n",
    "\n",
    "  \n",
    "  train_generator = train_datagen.flow_from_directory(directory=TRAINING_DIR,\n",
    "                                                      batch_size=50,\n",
    "                                                      class_mode='binary',\n",
    "                                                      target_size=(150, 150))\n",
    "\n",
    "  \n",
    "  validation_datagen = ImageDataGenerator(rescale = 1./255)\n",
    "\n",
    "  \n",
    "  validation_generator = validation_datagen.flow_from_directory(directory=VALIDATION_DIR,\n",
    "                                                                batch_size=50,\n",
    "                                                                class_mode='binary',\n",
    "                                                                target_size=(150, 150))\n",
    "\n",
    "  return train_generator, validation_generator\n"
   ]
  },
  {
   "cell_type": "code",
   "execution_count": 97,
   "id": "c1bfc51a",
   "metadata": {},
   "outputs": [
    {
     "name": "stdout",
     "output_type": "stream",
     "text": [
      "Found 22497 images belonging to 2 classes.\n",
      "Found 2500 images belonging to 2 classes.\n"
     ]
    }
   ],
   "source": [
    "# Test your generators\n",
    "train_generator, validation_generator = train_val_generators(TRAINING_DIR, VALIDATION_DIR)"
   ]
  },
  {
   "cell_type": "code",
   "execution_count": 98,
   "id": "919e7d8e",
   "metadata": {},
   "outputs": [],
   "source": [
    "# GRADED FUNCTION: create_model\n",
    "def create_model():\n",
    "  # DEFINE A KERAS MODEL TO CLASSIFY CATS V DOGS\n",
    "  # USE AT LEAST 3 CONVOLUTION LAYERS\n",
    "\n",
    "  ### START CODE HERE\n",
    "\n",
    "  model = tf.keras.models.Sequential([\n",
    "      tf.keras.layers.Conv2D(16, (3,3), activation='relu', input_shape=(150, 150, 3)),\n",
    "      tf.keras.layers.MaxPooling2D(2,2),\n",
    "      tf.keras.layers.Conv2D(32, (3,3), activation='relu'),\n",
    "      tf.keras.layers.MaxPooling2D(2,2), \n",
    "      tf.keras.layers.Conv2D(64, (3,3), activation='relu'), \n",
    "      tf.keras.layers.MaxPooling2D(2,2),\n",
    "      # Flatten the results to feed into a DNN\n",
    "      tf.keras.layers.Flatten(), \n",
    "      # 512 neuron hidden layer\n",
    "      tf.keras.layers.Dense(512, activation='relu'), \n",
    "      # Only 1 output neuron. It will contain a value from 0-1 where 0 for 1 class ('cats') and 1 for the other ('dogs')\n",
    "      tf.keras.layers.Dense(1, activation='sigmoid')  ,\n",
    "  ])\n",
    "\n",
    "  \n",
    "  model.compile(optimizer='adam',\n",
    "                loss='binary_crossentropy',\n",
    "                metrics=['accuracy']) \n",
    "    \n",
    "  ### END CODE HERE\n",
    "\n",
    "  return model\n"
   ]
  },
  {
   "cell_type": "code",
   "execution_count": 99,
   "id": "2d83693c",
   "metadata": {},
   "outputs": [
    {
     "name": "stderr",
     "output_type": "stream",
     "text": [
      "2022-06-17 15:42:03.081211: W tensorflow/stream_executor/platform/default/dso_loader.cc:64] Could not load dynamic library 'libcuda.so.1'; dlerror: libcuda.so.1: cannot open shared object file: No such file or directory\n",
      "2022-06-17 15:42:03.081838: W tensorflow/stream_executor/cuda/cuda_driver.cc:269] failed call to cuInit: UNKNOWN ERROR (303)\n",
      "2022-06-17 15:42:03.082994: I tensorflow/stream_executor/cuda/cuda_diagnostics.cc:156] kernel driver does not appear to be running on this host (fadilrisdian-X455LAB): /proc/driver/nvidia/version does not exist\n",
      "2022-06-17 15:42:03.092575: I tensorflow/core/platform/cpu_feature_guard.cc:193] This TensorFlow binary is optimized with oneAPI Deep Neural Network Library (oneDNN) to use the following CPU instructions in performance-critical operations:  AVX2 FMA\n",
      "To enable them in other operations, rebuild TensorFlow with the appropriate compiler flags.\n",
      "2022-06-17 15:42:03.234617: W tensorflow/core/framework/cpu_allocator_impl.cc:82] Allocation of 37879808 exceeds 10% of free system memory.\n",
      "2022-06-17 15:42:03.292458: W tensorflow/core/framework/cpu_allocator_impl.cc:82] Allocation of 37879808 exceeds 10% of free system memory.\n",
      "2022-06-17 15:42:03.312058: W tensorflow/core/framework/cpu_allocator_impl.cc:82] Allocation of 37879808 exceeds 10% of free system memory.\n"
     ]
    },
    {
     "name": "stdout",
     "output_type": "stream",
     "text": [
      "Epoch 1/15\n"
     ]
    },
    {
     "name": "stderr",
     "output_type": "stream",
     "text": [
      "2022-06-17 15:42:04.040248: W tensorflow/core/framework/cpu_allocator_impl.cc:82] Allocation of 37879808 exceeds 10% of free system memory.\n",
      "2022-06-17 15:42:04.064205: W tensorflow/core/framework/cpu_allocator_impl.cc:82] Allocation of 37879808 exceeds 10% of free system memory.\n"
     ]
    },
    {
     "name": "stdout",
     "output_type": "stream",
     "text": [
      "396/450 [=========================>....] - ETA: 51s - loss: 0.6186 - accuracy: 0.6578"
     ]
    },
    {
     "name": "stderr",
     "output_type": "stream",
     "text": [
      "/home/fadilrisdian/anaconda3/envs/coursera/lib/python3.10/site-packages/PIL/TiffImagePlugin.py:845: UserWarning: Truncated File Read\n",
      "  warnings.warn(str(msg))\n"
     ]
    },
    {
     "name": "stdout",
     "output_type": "stream",
     "text": [
      "450/450 [==============================] - 441s 977ms/step - loss: 0.6085 - accuracy: 0.6671 - val_loss: 0.5073 - val_accuracy: 0.7460\n",
      "Epoch 2/15\n",
      "450/450 [==============================] - 439s 976ms/step - loss: 0.4612 - accuracy: 0.7837 - val_loss: 0.4899 - val_accuracy: 0.7580\n",
      "Epoch 3/15\n",
      "450/450 [==============================] - 488s 1s/step - loss: 0.3820 - accuracy: 0.8291 - val_loss: 0.3978 - val_accuracy: 0.8188\n",
      "Epoch 4/15\n",
      "450/450 [==============================] - 438s 974ms/step - loss: 0.3169 - accuracy: 0.8602 - val_loss: 0.4004 - val_accuracy: 0.8348\n",
      "Epoch 5/15\n",
      "450/450 [==============================] - 422s 938ms/step - loss: 0.2401 - accuracy: 0.8988 - val_loss: 0.4247 - val_accuracy: 0.8224\n",
      "Epoch 6/15\n",
      "450/450 [==============================] - 424s 942ms/step - loss: 0.1625 - accuracy: 0.9349 - val_loss: 0.4947 - val_accuracy: 0.8384\n",
      "Epoch 7/15\n",
      "450/450 [==============================] - 426s 946ms/step - loss: 0.0936 - accuracy: 0.9664 - val_loss: 0.5543 - val_accuracy: 0.8352\n",
      "Epoch 8/15\n",
      "450/450 [==============================] - 424s 943ms/step - loss: 0.0543 - accuracy: 0.9835 - val_loss: 0.6729 - val_accuracy: 0.8288\n",
      "Epoch 9/15\n",
      "450/450 [==============================] - 422s 937ms/step - loss: 0.0356 - accuracy: 0.9889 - val_loss: 0.8418 - val_accuracy: 0.8116\n",
      "Epoch 10/15\n",
      "450/450 [==============================] - 423s 940ms/step - loss: 0.0228 - accuracy: 0.9929 - val_loss: 0.8988 - val_accuracy: 0.8248\n",
      "Epoch 11/15\n",
      "450/450 [==============================] - 419s 931ms/step - loss: 0.0237 - accuracy: 0.9924 - val_loss: 0.9879 - val_accuracy: 0.8256\n",
      "Epoch 12/15\n",
      "450/450 [==============================] - 432s 961ms/step - loss: 0.0227 - accuracy: 0.9928 - val_loss: 0.9662 - val_accuracy: 0.8260\n",
      "Epoch 13/15\n",
      "450/450 [==============================] - 443s 985ms/step - loss: 0.0270 - accuracy: 0.9909 - val_loss: 1.0457 - val_accuracy: 0.8380\n",
      "Epoch 14/15\n",
      "450/450 [==============================] - 476s 1s/step - loss: 0.0260 - accuracy: 0.9918 - val_loss: 1.0961 - val_accuracy: 0.8260\n",
      "Epoch 15/15\n",
      "450/450 [==============================] - 428s 952ms/step - loss: 0.0068 - accuracy: 0.9984 - val_loss: 1.2768 - val_accuracy: 0.8184\n"
     ]
    }
   ],
   "source": [
    "# Get the untrained model\n",
    "model = create_model()\n",
    "\n",
    "# Train the model\n",
    "# Note that this may take some time.\n",
    "history = model.fit(train_generator,\n",
    "                    epochs=15,\n",
    "                    verbose=1,\n",
    "                    validation_data=validation_generator)"
   ]
  },
  {
   "cell_type": "code",
   "execution_count": 100,
   "id": "78dbd1fd",
   "metadata": {},
   "outputs": [
    {
     "data": {
      "image/png": "[encoded data removed]",
      "text/plain": [
       "<Figure size 432x288 with 1 Axes>"
      ]
     },
     "metadata": {
      "needs_background": "light"
     },
     "output_type": "display_data"
    },
    {
     "name": "stdout",
     "output_type": "stream",
     "text": [
      "\n"
     ]
    },
    {
     "data": {
      "image/png": "[encoded data removed]",
      "text/plain": [
       "<Figure size 432x288 with 1 Axes>"
      ]
     },
     "metadata": {
      "needs_background": "light"
     },
     "output_type": "display_data"
    }
   ],
   "source": [
    "#-----------------------------------------------------------\n",
    "# Retrieve a list of list results on training and test data\n",
    "# sets for each training epoch\n",
    "#-----------------------------------------------------------\n",
    "acc=history.history['accuracy']\n",
    "val_acc=history.history['val_accuracy']\n",
    "loss=history.history['loss']\n",
    "val_loss=history.history['val_loss']\n",
    "\n",
    "epochs=range(len(acc)) # Get number of epochs\n",
    "\n",
    "#------------------------------------------------\n",
    "# Plot training and validation accuracy per epoch\n",
    "#------------------------------------------------\n",
    "plt.plot(epochs, acc, 'r', \"Training Accuracy\")\n",
    "plt.plot(epochs, val_acc, 'b', \"Validation Accuracy\")\n",
    "plt.title('Training and validation accuracy')\n",
    "plt.show()\n",
    "print(\"\")\n",
    "\n",
    "#------------------------------------------------\n",
    "# Plot training and validation loss per epoch\n",
    "#------------------------------------------------\n",
    "plt.plot(epochs, loss, 'r', \"Training Loss\")\n",
    "plt.plot(epochs, val_loss, 'b', \"Validation Loss\")\n",
    "plt.show()"
   ]
  }
 ],
 "metadata": {
  "kernelspec": {
   "display_name": "Python 3 (ipykernel)",
   "language": "python",
   "name": "python3"
  },
  "language_info": {
   "codemirror_mode": {
    "name": "ipython",
    "version": 3
   },
   "file_extension": ".py",
   "mimetype": "text/x-python",
   "name": "python",
   "nbconvert_exporter": "python",
   "pygments_lexer": "ipython3",
   "version": "3.10.4"
  }
 },
 "nbformat": 4,
 "nbformat_minor": 5
}
